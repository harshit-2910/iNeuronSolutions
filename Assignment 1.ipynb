{
  "metadata": {
    "language_info": {
      "codemirror_mode": {
        "name": "python",
        "version": 3
      },
      "file_extension": ".py",
      "mimetype": "text/x-python",
      "name": "python",
      "nbconvert_exporter": "python",
      "pygments_lexer": "ipython3",
      "version": "3.8"
    },
    "kernelspec": {
      "name": "python",
      "display_name": "Python (Pyodide)",
      "language": "python"
    }
  },
  "nbformat_minor": 4,
  "nbformat": 4,
  "cells": [
    {
      "cell_type": "markdown",
      "source": "1. In the below elements which of them are values or an expression? eg:- values can be\ninteger or string and expressions will be mathematical operators.",
      "metadata": {}
    },
    {
      "cell_type": "markdown",
      "source": "*  :- Expression\nhello :- Values\n-87.8 :- Values\n-     :- Expression\n/     :- Expression\n+     :- Expression\n6     :- Values",
      "metadata": {}
    },
    {
      "cell_type": "markdown",
      "source": "2. What is the difference between string and variable?",
      "metadata": {}
    },
    {
      "cell_type": "markdown",
      "source": "A string is value enclosed with in a single quotes, double quotes, or triple quotes(For multi line strings) where as variables which holds the value or in which the variables are assigned \n\nEx:- x='Hello' or y=22 where x and y are variables and 'Hello' and 22 are values where 'Hello' is a string.",
      "metadata": {}
    },
    {
      "cell_type": "markdown",
      "source": "3. Describe three different data types.",
      "metadata": {}
    },
    {
      "cell_type": "markdown",
      "source": "The three types of data types are :- String, Integer, Bool\n\nString :- These are the data types which are enclosed in a single quote, double quote or triple quote.\nInteger :- These are the numeric values which can be negative number of postivie number or 0.\nBoolean :- These are nothing but True or Flase i.e 0 and 1 ",
      "metadata": {}
    },
    {
      "cell_type": "markdown",
      "source": "4. What is an expression made up of? What do all expressions do?",
      "metadata": {}
    },
    {
      "cell_type": "markdown",
      "source": "Expression are mathematical operator like + - * / etc. They are assinged with specific tasks like + is addition of two numbers of strings. - is for substraction, * is used for multiplication and / is for division. Where are in mathematical term expression is like a+b where we have operators and operands at the same time.",
      "metadata": {}
    },
    {
      "cell_type": "markdown",
      "source": "5. This assignment statements, like spam = 10. What is the difference between an expression and a statement?",
      "metadata": {}
    },
    {
      "cell_type": "markdown",
      "source": "Expression must have alteast two or more operators where as = is an assignment operator so this is an statement instead of expression",
      "metadata": {}
    },
    {
      "cell_type": "markdown",
      "source": "6. After running the following code, what does the variable bacon contain?\nbacon = 22\nbacon + 1",
      "metadata": {}
    },
    {
      "cell_type": "markdown",
      "source": "bacon contains 23 after the code is executed",
      "metadata": {}
    },
    {
      "cell_type": "markdown",
      "source": "7. What should the values of the following two terms be?\n'spam' + 'spamspam'\n'spam' * 3",
      "metadata": {}
    },
    {
      "cell_type": "markdown",
      "source": "the result is going to be same for both of them i.e. 'spamspamspam'",
      "metadata": {}
    },
    {
      "cell_type": "markdown",
      "source": "8. Why is eggs a valid variable name while 100 is invalid?",
      "metadata": {}
    },
    {
      "cell_type": "markdown",
      "source": "This is the inbuilt of python that it allows a string to be a variable and int not to be also the reason maybe that a variable can be assigned with any value where as a constant can be assigned as it already has a fixed value.",
      "metadata": {}
    },
    {
      "cell_type": "markdown",
      "source": "9. What three functions can be used to get the integer, floating-point number, or string\nversion of a value?",
      "metadata": {}
    },
    {
      "cell_type": "markdown",
      "source": "int(x), str(x), float(x) to check the type we can do type(x) but string can't be converted to float or int as it show value error.",
      "metadata": {}
    },
    {
      "cell_type": "markdown",
      "source": "10. Why does this expression cause an error? How can you fix it?\n'I have eaten' + 99 + 'burritos.'",
      "metadata": {}
    },
    {
      "cell_type": "markdown",
      "source": "string can't be concatenated with integer to fix it we can reomve the int part and write the code as 'I have eaten'+'burritos.'",
      "metadata": {}
    }
  ]
}